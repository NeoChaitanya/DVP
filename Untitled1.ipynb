{
 "cells": [
  {
   "cell_type": "code",
   "execution_count": 1,
   "id": "ca440268",
   "metadata": {},
   "outputs": [],
   "source": [
    "#     lab1: lists\n"
   ]
  },
  {
   "cell_type": "code",
   "execution_count": 10,
   "id": "f1923015",
   "metadata": {},
   "outputs": [
    {
     "name": "stdout",
     "output_type": "stream",
     "text": [
      "[]\n"
     ]
    }
   ],
   "source": [
    "list1 = []\n",
    "print(list1)"
   ]
  },
  {
   "cell_type": "code",
   "execution_count": 3,
   "id": "d9403549",
   "metadata": {},
   "outputs": [],
   "source": [
    "list1 = [2,2,4,\"ehte\",'sd',3.343]"
   ]
  },
  {
   "cell_type": "code",
   "execution_count": 4,
   "id": "91ab53d9",
   "metadata": {},
   "outputs": [
    {
     "name": "stdout",
     "output_type": "stream",
     "text": [
      "[2, 2, 4, 'ehte', 'sd', 3.343]\n"
     ]
    }
   ],
   "source": [
    "print(list1)"
   ]
  },
  {
   "cell_type": "code",
   "execution_count": 6,
   "id": "4d62bb78",
   "metadata": {},
   "outputs": [],
   "source": [
    "list_2= [4,3,2,3]"
   ]
  },
  {
   "cell_type": "code",
   "execution_count": 28,
   "id": "ee08ddb2",
   "metadata": {},
   "outputs": [
    {
     "name": "stdout",
     "output_type": "stream",
     "text": [
      "[2, 3, 5, 4, 'fd', [4, 3, 2, 3]]\n"
     ]
    }
   ],
   "source": [
    "list1 = [2,3,5,4,'fd',list_2]\n",
    "print(list1)"
   ]
  },
  {
   "cell_type": "code",
   "execution_count": 31,
   "id": "f67e431a",
   "metadata": {},
   "outputs": [],
   "source": [
    "list1.append('user'\"name\")"
   ]
  },
  {
   "cell_type": "code",
   "execution_count": 26,
   "id": "b29d43dd",
   "metadata": {},
   "outputs": [
    {
     "name": "stdout",
     "output_type": "stream",
     "text": [
      "[2, 3, 5, 4, 'fd', [4, 3, 2, 3], 'username', 'username']\n"
     ]
    }
   ],
   "source": [
    "print(list1)"
   ]
  },
  {
   "cell_type": "code",
   "execution_count": 56,
   "id": "4675e0b5",
   "metadata": {},
   "outputs": [
    {
     "name": "stdout",
     "output_type": "stream",
     "text": [
      "[10, 20, 15, 30]\n"
     ]
    }
   ],
   "source": [
    "num_list = [10,20,30]\n",
    "num_list.insert(2,15)\n",
    "print(num_list)"
   ]
  },
  {
   "cell_type": "code",
   "execution_count": 32,
   "id": "3e57703d",
   "metadata": {},
   "outputs": [],
   "source": [
    "num_list.append([23])"
   ]
  },
  {
   "cell_type": "code",
   "execution_count": 44,
   "id": "8f8411fa",
   "metadata": {},
   "outputs": [
    {
     "name": "stdout",
     "output_type": "stream",
     "text": [
      "[10, 20, 15, 30]\n"
     ]
    }
   ],
   "source": [
    "print(num_list)"
   ]
  },
  {
   "cell_type": "code",
   "execution_count": 34,
   "id": "1d0c117d",
   "metadata": {},
   "outputs": [],
   "source": [
    "num_list.extend(list_2)"
   ]
  },
  {
   "cell_type": "code",
   "execution_count": 36,
   "id": "7a39b288",
   "metadata": {},
   "outputs": [
    {
     "name": "stdout",
     "output_type": "stream",
     "text": [
      "[10, 20, 15, 30, [23], 4, 3, 2, 3]\n"
     ]
    }
   ],
   "source": [
    "print(num_list)"
   ]
  },
  {
   "cell_type": "code",
   "execution_count": 37,
   "id": "a0720aed",
   "metadata": {},
   "outputs": [],
   "source": [
    "num_list.append(list_2)"
   ]
  },
  {
   "cell_type": "code",
   "execution_count": 57,
   "id": "612f6be2",
   "metadata": {},
   "outputs": [
    {
     "name": "stdout",
     "output_type": "stream",
     "text": [
      "[10, 20, 15, 30]\n"
     ]
    }
   ],
   "source": [
    "print(num_list)"
   ]
  },
  {
   "cell_type": "code",
   "execution_count": 58,
   "id": "a1965808",
   "metadata": {},
   "outputs": [],
   "source": [
    "num_list.extend('342' \"434\")"
   ]
  },
  {
   "cell_type": "code",
   "execution_count": 59,
   "id": "ad6ed68b",
   "metadata": {},
   "outputs": [
    {
     "name": "stdout",
     "output_type": "stream",
     "text": [
      "[10, 20, 15, 30, '3', '4', '2', '4', '3', '4']\n"
     ]
    }
   ],
   "source": [
    "print(num_list)"
   ]
  },
  {
   "cell_type": "code",
   "execution_count": 70,
   "id": "e12be871",
   "metadata": {},
   "outputs": [],
   "source": [
    "num_list.extend([True])\n"
   ]
  },
  {
   "cell_type": "code",
   "execution_count": 71,
   "id": "d5ce478e",
   "metadata": {},
   "outputs": [
    {
     "name": "stdout",
     "output_type": "stream",
     "text": [
      "[10, 20, 15, 30, '3', '4', '2', '4', '3', '4', True]\n"
     ]
    }
   ],
   "source": [
    "print(num_list)"
   ]
  },
  {
   "cell_type": "code",
   "execution_count": 72,
   "id": "55f819ec",
   "metadata": {},
   "outputs": [],
   "source": [
    "my_list = [True, False, 'ture' ,\"false\"]"
   ]
  },
  {
   "cell_type": "code",
   "execution_count": 73,
   "id": "363c83c9",
   "metadata": {},
   "outputs": [
    {
     "name": "stdout",
     "output_type": "stream",
     "text": [
      "[True, False, 'ture', 'false']\n"
     ]
    }
   ],
   "source": [
    "print(my_list)"
   ]
  },
  {
   "cell_type": "code",
   "execution_count": 74,
   "id": "85e907bd",
   "metadata": {},
   "outputs": [],
   "source": [
    "my_dict = {}"
   ]
  },
  {
   "cell_type": "code",
   "execution_count": 75,
   "id": "502c4a29",
   "metadata": {},
   "outputs": [
    {
     "name": "stdout",
     "output_type": "stream",
     "text": [
      "{}\n"
     ]
    }
   ],
   "source": [
    "print(my_dict)"
   ]
  },
  {
   "cell_type": "code",
   "execution_count": 89,
   "id": "fbb72342",
   "metadata": {},
   "outputs": [],
   "source": [
    "mydict={1:['first','one',1],2:['second','two'],'Third':'three'}"
   ]
  },
  {
   "cell_type": "code",
   "execution_count": 90,
   "id": "9625674d",
   "metadata": {},
   "outputs": [
    {
     "name": "stdout",
     "output_type": "stream",
     "text": [
      "{1: ['first', 'one', 1], 2: ['second', 'two'], 'Third': 'three'}\n"
     ]
    }
   ],
   "source": [
    "print(mydict)"
   ]
  },
  {
   "cell_type": "code",
   "execution_count": 91,
   "id": "f0972b18",
   "metadata": {},
   "outputs": [
    {
     "data": {
      "text/plain": [
       "dict_items([(1, ['first', 'one', 1]), (2, ['second', 'two']), ('Third', 'three')])"
      ]
     },
     "execution_count": 91,
     "metadata": {},
     "output_type": "execute_result"
    }
   ],
   "source": [
    "mydict.items()"
   ]
  },
  {
   "cell_type": "code",
   "execution_count": 92,
   "id": "869b8db5",
   "metadata": {},
   "outputs": [
    {
     "data": {
      "text/plain": [
       "dict_values([['first', 'one', 1], ['second', 'two'], 'three'])"
      ]
     },
     "execution_count": 92,
     "metadata": {},
     "output_type": "execute_result"
    }
   ],
   "source": [
    "mydict.values()"
   ]
  },
  {
   "cell_type": "code",
   "execution_count": 93,
   "id": "3e6740f3",
   "metadata": {},
   "outputs": [
    {
     "data": {
      "text/plain": [
       "dict_keys([1, 2, 'Third'])"
      ]
     },
     "execution_count": 93,
     "metadata": {},
     "output_type": "execute_result"
    }
   ],
   "source": [
    "mydict.keys()"
   ]
  },
  {
   "cell_type": "code",
   "execution_count": 94,
   "id": "69a4aa41",
   "metadata": {},
   "outputs": [],
   "source": [
    "mydict2={'name':[\"user1\",'user2','user3'],1:[1,2,3,4,5]}"
   ]
  },
  {
   "cell_type": "code",
   "execution_count": 95,
   "id": "4090d570",
   "metadata": {},
   "outputs": [
    {
     "ename": "NameError",
     "evalue": "name 'dict_keys' is not defined",
     "output_type": "error",
     "traceback": [
      "\u001b[1;31m---------------------------------------------------------------------------\u001b[0m",
      "\u001b[1;31mNameError\u001b[0m                                 Traceback (most recent call last)",
      "\u001b[1;32m~\\AppData\\Local\\Temp\\ipykernel_14476\\1219271209.py\u001b[0m in \u001b[0;36m<module>\u001b[1;34m\u001b[0m\n\u001b[1;32m----> 1\u001b[1;33m \u001b[0mdict_keys\u001b[0m\u001b[1;33m(\u001b[0m\u001b[1;33m)\u001b[0m\u001b[1;33m\u001b[0m\u001b[1;33m\u001b[0m\u001b[0m\n\u001b[0m",
      "\u001b[1;31mNameError\u001b[0m: name 'dict_keys' is not defined"
     ]
    }
   ],
   "source": [
    "dict_keys()"
   ]
  },
  {
   "cell_type": "code",
   "execution_count": 96,
   "id": "8ae47d8d",
   "metadata": {},
   "outputs": [],
   "source": [
    "mydict3={'name':[\"not-user1\",'not-user2','not-user3'],1:[1,2,3,4,5]}"
   ]
  },
  {
   "cell_type": "code",
   "execution_count": null,
   "id": "7e89639a",
   "metadata": {},
   "outputs": [],
   "source": []
  }
 ],
 "metadata": {
  "kernelspec": {
   "display_name": "Python 3 (ipykernel)",
   "language": "python",
   "name": "python3"
  },
  "language_info": {
   "codemirror_mode": {
    "name": "ipython",
    "version": 3
   },
   "file_extension": ".py",
   "mimetype": "text/x-python",
   "name": "python",
   "nbconvert_exporter": "python",
   "pygments_lexer": "ipython3",
   "version": "3.9.13"
  }
 },
 "nbformat": 4,
 "nbformat_minor": 5
}
