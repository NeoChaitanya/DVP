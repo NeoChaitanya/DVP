{
 "cells": [
  {
   "cell_type": "code",
   "execution_count": 3,
   "id": "951ace07",
   "metadata": {},
   "outputs": [
    {
     "name": "stdout",
     "output_type": "stream",
     "text": [
      "Enter marks for the 1st subject79\n",
      "Enter marks for the 2nd subject59\n",
      "Enter marks for the 3rd subject88\n",
      "The average is: 75.33333333333333\n",
      "And the grade is C\n"
     ]
    }
   ],
   "source": [
    "sub1 = int(input(\"Enter marks for the 1st subject \"))\n",
    "sub2 = int(input(\"Enter marks for the 2nd subject \"))\n",
    "sub3 = int(input(\"Enter marks for the 3rd subject \"))\n",
    "\n",
    "avg = float((sub1+sub2+sub3) / 3)\n",
    "\n",
    "if(90<avg<100):\n",
    "    print(\"The average is:\",avg)\n",
    "    print(\"And the grade is A\")\n",
    "    \n",
    "elif(80<avg<89):\n",
    "    print(\"The average is:\",avg)\n",
    "    print(\"And the grade is B\")\n",
    "    \n",
    "elif(70<avg<79):\n",
    "    print(\"The average is:\",avg)\n",
    "    print(\"And the grade is C\")\n",
    "    \n",
    "elif(60<avg<69):\n",
    "    print(\"The average is:\",avg)\n",
    "    print(\"And the grade is D\")\n",
    "\n",
    "elif(0<avg<59):\n",
    "    print(\"The average is:\",avg)\n",
    "    print(\"And the grade is F\")\n",
    "\n",
    "else:\n",
    "    print(\"Error\")\n"
   ]
  },
  {
   "cell_type": "code",
   "execution_count": null,
   "id": "ac0aeb6f",
   "metadata": {},
   "outputs": [],
   "source": []
  },
  {
   "cell_type": "code",
   "execution_count": 1,
   "id": "63b6ca86",
   "metadata": {},
   "outputs": [
    {
     "name": "stdout",
     "output_type": "stream",
     "text": [
      "9\n",
      "-2\n",
      "ALERT\n",
      "4\n",
      "5\n",
      "3\n",
      "2\n",
      "-3\n",
      "ALERT\n",
      "2\n",
      "3\n",
      "3\n"
     ]
    }
   ],
   "source": [
    "\n",
    "for i in range(0,10):\n",
    "    rand_no = int(input());\n",
    "    if(rand_no<0):\n",
    "        print(\"ALERT\")"
   ]
  },
  {
   "cell_type": "code",
   "execution_count": null,
   "id": "a11f4577",
   "metadata": {},
   "outputs": [],
   "source": []
  },
  {
   "cell_type": "code",
   "execution_count": 4,
   "id": "7dbf8287",
   "metadata": {},
   "outputs": [
    {
     "ename": "SyntaxError",
     "evalue": "invalid syntax (3777539959.py, line 1)",
     "output_type": "error",
     "traceback": [
      "\u001b[1;36m  File \u001b[1;32m\"C:\\Users\\Computer\\AppData\\Local\\Temp\\ipykernel_8628\\3777539959.py\"\u001b[1;36m, line \u001b[1;32m1\u001b[0m\n\u001b[1;33m    input re\u001b[0m\n\u001b[1;37m          ^\u001b[0m\n\u001b[1;31mSyntaxError\u001b[0m\u001b[1;31m:\u001b[0m invalid syntax\n"
     ]
    }
   ],
   "source": [
    "\n",
    "while(1):\n",
    "    password = str(input(\"Enter your password\"))\n",
    "    if(4 < len(password) < 15):\n",
    "        break     \n",
    "    else:\n",
    "        print(\"Invalid password\")\n",
    "\n",
    "\n",
    "    \n",
    "list_pswd = [*password]\n",
    "\n",
    "spl=['!','@','$','#','%','^','&','*','(',')','<','>','{','}','/','?',':',';','`','~','[',']','=','+','-','_']\n",
    "\n",
    "bp1 = int(len(list_pawd)/3)\n",
    "bp2 = int(len(list_pawd)*2/3)\n",
    "\n",
    "pswd_strength = 0\n",
    "\n",
    "if(len(4 < len(list_pswd) < 7):\n",
    "   pswd_strength += 2\n",
    "elif(6 < len(list_pswd < 11))\n",
    "   pswd_strength += 5\n",
    "elif(len(10 < len(list_pswd) < 16))\n",
    "   pswd_strength += 7\n",
    "else:\n",
    "   pswd_strength += 0\n",
    "\n",
    "\n",
    "\n",
    "for i in range(0,bp1):\n",
    "   for j in spl:\n",
    "       if(list_pswd[i] == spl[j]):\n",
    "           pswd_strength += 2\n",
    "\n",
    "for i in range(bp1,bp2):\n",
    "   for j in spl:\n",
    "       if(list_pswd[i] == spl[j]):\n",
    "           pswd_strength += 4\n",
    "\n",
    "for i in range(bp2,len(list_pswd)):\n",
    "   for j in spl:\n",
    "       if(list_pswd[i] == spl[j]):\n",
    "           pswd_strength += 2"
   ]
  },
  {
   "cell_type": "code",
   "execution_count": null,
   "id": "6c0609f9",
   "metadata": {},
   "outputs": [],
   "source": []
  }
 ],
 "metadata": {
  "kernelspec": {
   "display_name": "Python 3 (ipykernel)",
   "language": "python",
   "name": "python3"
  },
  "language_info": {
   "codemirror_mode": {
    "name": "ipython",
    "version": 3
   },
   "file_extension": ".py",
   "mimetype": "text/x-python",
   "name": "python",
   "nbconvert_exporter": "python",
   "pygments_lexer": "ipython3",
   "version": "3.9.13"
  }
 },
 "nbformat": 4,
 "nbformat_minor": 5
}
