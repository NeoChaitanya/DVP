{
 "cells": [
  {
   "cell_type": "code",
   "execution_count": 1,
   "id": "a98c6705",
   "metadata": {},
   "outputs": [
    {
     "name": "stdout",
     "output_type": "stream",
     "text": [
      "hello\n"
     ]
    }
   ],
   "source": [
    "print(\"hello\")"
   ]
  },
  {
   "cell_type": "code",
   "execution_count": 22,
   "id": "a3682c61",
   "metadata": {},
   "outputs": [
    {
     "name": "stdout",
     "output_type": "stream",
     "text": [
      "hello world\n"
     ]
    }
   ],
   "source": [
    "print(\"hello world\")"
   ]
  },
  {
   "cell_type": "markdown",
   "id": "161e56af",
   "metadata": {},
   "source": [
    "hello world"
   ]
  },
  {
   "cell_type": "code",
   "execution_count": 4,
   "id": "7895e6c9",
   "metadata": {},
   "outputs": [
    {
     "name": "stdout",
     "output_type": "stream",
     "text": [
      "hello world\n",
      "hello world\n",
      "hello world\n",
      "hello world\n",
      "hello world\n",
      "hello world\n",
      "hello world\n",
      "hello world\n",
      "hello world\n",
      "hello world\n",
      "hello world\n",
      "hello world\n",
      "hello world\n",
      "hello world\n",
      "hello world\n",
      "hello world\n",
      "hello world\n",
      "hello world\n",
      "hello world\n",
      "hello world\n",
      "hello world\n",
      "hello world\n",
      "hello world\n",
      "hello world\n",
      "hello world\n",
      "hello world\n",
      "hello world\n",
      "hello world\n",
      "hello world\n",
      "hello world\n",
      "hello world\n",
      "hello world\n",
      "hello world\n",
      "hello world\n",
      "hello world\n",
      "hello world\n",
      "hello world\n",
      "hello world\n",
      "hello world\n",
      "hello world\n",
      "hello world\n",
      "hello world\n",
      "hello world\n",
      "hello world\n",
      "hello world\n",
      "hello world\n",
      "hello world\n",
      "hello world\n",
      "hello world\n",
      "hello world\n",
      "hello world\n",
      "hello world\n",
      "hello world\n",
      "hello world\n",
      "hello world\n",
      "hello world\n",
      "hello world\n",
      "hello world\n",
      "hello world\n",
      "hello world\n",
      "hello world\n",
      "hello world\n",
      "hello world\n",
      "hello world\n",
      "hello world\n",
      "hello world\n",
      "hello world\n",
      "hello world\n",
      "hello world\n",
      "hello world\n",
      "hello world\n",
      "hello world\n",
      "hello world\n",
      "hello world\n",
      "hello world\n",
      "hello world\n",
      "hello world\n",
      "hello world\n",
      "hello world\n",
      "hello world\n",
      "hello world\n",
      "hello world\n",
      "hello world\n",
      "hello world\n",
      "hello world\n",
      "hello world\n",
      "hello world\n",
      "hello world\n",
      "hello world\n",
      "hello world\n",
      "hello world\n",
      "hello world\n",
      "hello world\n",
      "hello world\n",
      "hello world\n",
      "hello world\n",
      "hello world\n",
      "hello world\n",
      "hello world\n",
      "hello world\n"
     ]
    }
   ],
   "source": [
    "for i in range(0,100) :\n",
    "    print(\"hello world\")"
   ]
  },
  {
   "cell_type": "code",
   "execution_count": 5,
   "id": "3fb20163",
   "metadata": {},
   "outputs": [],
   "source": [
    "a = 100\n",
    "b = 20.59\n",
    "name = \"chaitanya\"\n"
   ]
  },
  {
   "cell_type": "code",
   "execution_count": 6,
   "id": "687d00a3",
   "metadata": {},
   "outputs": [
    {
     "name": "stdout",
     "output_type": "stream",
     "text": [
      "chaitanya\n",
      "100\n",
      "20.59\n",
      "120.59\n"
     ]
    }
   ],
   "source": [
    "print(name)\n",
    "print(a)\n",
    "print(b)\n",
    "print(a+b)"
   ]
  },
  {
   "cell_type": "code",
   "execution_count": 7,
   "id": "333313c8",
   "metadata": {},
   "outputs": [
    {
     "name": "stdout",
     "output_type": "stream",
     "text": [
      "100 20.59 chaitanya\n"
     ]
    }
   ],
   "source": [
    "print(a,b,name)"
   ]
  },
  {
   "cell_type": "code",
   "execution_count": 8,
   "id": "7ce4979c",
   "metadata": {},
   "outputs": [
    {
     "name": "stdout",
     "output_type": "stream",
     "text": [
      "<class 'int'>\n",
      "<class 'float'>\n",
      "<class 'str'>\n"
     ]
    }
   ],
   "source": [
    "print(type(a))\n",
    "print(type(b))\n",
    "print(type(name))"
   ]
  },
  {
   "cell_type": "code",
   "execution_count": 10,
   "id": "24e301eb",
   "metadata": {},
   "outputs": [
    {
     "name": "stdout",
     "output_type": "stream",
     "text": [
      "9\n"
     ]
    }
   ],
   "source": [
    "\n",
    "print(len(name))"
   ]
  },
  {
   "cell_type": "markdown",
   "id": "1662a715",
   "metadata": {},
   "source": [
    "datatype"
   ]
  },
  {
   "cell_type": "code",
   "execution_count": 13,
   "id": "d49a6720",
   "metadata": {},
   "outputs": [
    {
     "name": "stdout",
     "output_type": "stream",
     "text": [
      "130\n",
      "120\n"
     ]
    }
   ],
   "source": [
    "a = 100\n",
    "true = 10\n",
    "b=20\n",
    "\n",
    "c = a+b+true\n",
    "\n",
    "print(c)\n",
    "print(a+b)"
   ]
  },
  {
   "cell_type": "code",
   "execution_count": 14,
   "id": "82afd834",
   "metadata": {},
   "outputs": [
    {
     "name": "stdout",
     "output_type": "stream",
     "text": [
      "10 10 10\n"
     ]
    }
   ],
   "source": [
    "a=b=c=10\n",
    "\n",
    "print(a,b,c)"
   ]
  },
  {
   "cell_type": "code",
   "execution_count": 17,
   "id": "e3fce7a7",
   "metadata": {},
   "outputs": [],
   "source": [
    "a=b=c=\"12wuw\""
   ]
  },
  {
   "cell_type": "code",
   "execution_count": 18,
   "id": "789af567",
   "metadata": {},
   "outputs": [
    {
     "name": "stdout",
     "output_type": "stream",
     "text": [
      "12wuw\n"
     ]
    }
   ],
   "source": [
    "print(a)"
   ]
  },
  {
   "cell_type": "code",
   "execution_count": 19,
   "id": "7e887f0f",
   "metadata": {},
   "outputs": [],
   "source": [
    "a=b=c=1,2,\"aa\""
   ]
  },
  {
   "cell_type": "code",
   "execution_count": 20,
   "id": "d4d1e67c",
   "metadata": {},
   "outputs": [
    {
     "name": "stdout",
     "output_type": "stream",
     "text": [
      "(1, 2, 'aa')\n"
     ]
    }
   ],
   "source": [
    "print(a)"
   ]
  },
  {
   "cell_type": "markdown",
   "id": "97478691",
   "metadata": {},
   "source": [
    "errors while printing "
   ]
  },
  {
   "cell_type": "code",
   "execution_count": 23,
   "id": "1d9ba6c9",
   "metadata": {},
   "outputs": [
    {
     "ename": "SyntaxError",
     "evalue": "invalid syntax (1140786589.py, line 1)",
     "output_type": "error",
     "traceback": [
      "\u001b[1;36m  File \u001b[1;32m\"C:\\Users\\Computer\\AppData\\Local\\Temp\\ipykernel_13816\\1140786589.py\"\u001b[1;36m, line \u001b[1;32m1\u001b[0m\n\u001b[1;33m    or = \"hello\"\u001b[0m\n\u001b[1;37m    ^\u001b[0m\n\u001b[1;31mSyntaxError\u001b[0m\u001b[1;31m:\u001b[0m invalid syntax\n"
     ]
    }
   ],
   "source": [
    "or = \"hello\"\n",
    "print(or)"
   ]
  },
  {
   "cell_type": "raw",
   "id": "e0773059",
   "metadata": {},
   "source": [
    "or is a keyword\n"
   ]
  },
  {
   "cell_type": "code",
   "execution_count": 24,
   "id": "5dbb548a",
   "metadata": {},
   "outputs": [
    {
     "name": "stdout",
     "output_type": "stream",
     "text": [
      "Defaulting to user installation because normal site-packages is not writeable\n",
      "Note: you may need to restart the kernel to use updated packages.\n"
     ]
    },
    {
     "name": "stderr",
     "output_type": "stream",
     "text": [
      "ERROR: Could not find a version that satisfies the requirement keyword (from versions: none)\n",
      "ERROR: No matching distribution found for keyword\n"
     ]
    }
   ],
   "source": [
    "pip install keyword\n"
   ]
  },
  {
   "cell_type": "code",
   "execution_count": 25,
   "id": "2b83ac33",
   "metadata": {},
   "outputs": [],
   "source": [
    "import keyword"
   ]
  },
  {
   "cell_type": "code",
   "execution_count": 26,
   "id": "3752e9dc",
   "metadata": {},
   "outputs": [
    {
     "name": "stdout",
     "output_type": "stream",
     "text": [
      "['False', 'None', 'True', '__peg_parser__', 'and', 'as', 'assert', 'async', 'await', 'break', 'class', 'continue', 'def', 'del', 'elif', 'else', 'except', 'finally', 'for', 'from', 'global', 'if', 'import', 'in', 'is', 'lambda', 'nonlocal', 'not', 'or', 'pass', 'raise', 'return', 'try', 'while', 'with', 'yield']\n"
     ]
    }
   ],
   "source": [
    "print(keyword.kwlist)"
   ]
  },
  {
   "cell_type": "markdown",
   "id": "da5c9892",
   "metadata": {},
   "source": [
    "keywords"
   ]
  },
  {
   "cell_type": "code",
   "execution_count": 27,
   "id": "bc39e973",
   "metadata": {},
   "outputs": [
    {
     "name": "stdout",
     "output_type": "stream",
     "text": [
      "36\n"
     ]
    }
   ],
   "source": [
    "print(len(keyword.kwlist))"
   ]
  },
  {
   "cell_type": "code",
   "execution_count": 33,
   "id": "addf3072",
   "metadata": {},
   "outputs": [
    {
     "name": "stdout",
     "output_type": "stream",
     "text": [
      "enter you rollno42\n",
      "enter your namefd\n"
     ]
    }
   ],
   "source": [
    "rollno=input(\"enter your rollno\")\n",
    "name=input(\"enter your name\")\n"
   ]
  },
  {
   "cell_type": "code",
   "execution_count": 34,
   "id": "665ad28a",
   "metadata": {},
   "outputs": [
    {
     "name": "stdout",
     "output_type": "stream",
     "text": [
      "42\n",
      "fd\n"
     ]
    }
   ],
   "source": [
    "print(rollno)\n",
    "print(name)"
   ]
  },
  {
   "cell_type": "code",
   "execution_count": 36,
   "id": "c6ff4ef4",
   "metadata": {},
   "outputs": [
    {
     "name": "stdout",
     "output_type": "stream",
     "text": [
      "enter your address hereuwu\n",
      "uwu\n"
     ]
    }
   ],
   "source": [
    "print(input(\"enter your address here\"))"
   ]
  },
  {
   "cell_type": "code",
   "execution_count": 1,
   "id": "6d648d58",
   "metadata": {},
   "outputs": [
    {
     "name": "stdout",
     "output_type": "stream",
     "text": [
      "enter a number43\n"
     ]
    }
   ],
   "source": [
    "x = int(input(\"enter a number\"))"
   ]
  },
  {
   "cell_type": "code",
   "execution_count": 3,
   "id": "bb275b6d",
   "metadata": {},
   "outputs": [
    {
     "name": "stdout",
     "output_type": "stream",
     "text": [
      "the number is  43\n"
     ]
    }
   ],
   "source": [
    "print(\"the number is \",x)"
   ]
  },
  {
   "cell_type": "markdown",
   "id": "6ae348bf",
   "metadata": {},
   "source": [
    "use of split function"
   ]
  },
  {
   "cell_type": "code",
   "execution_count": 8,
   "id": "1d365b0c",
   "metadata": {},
   "outputs": [
    {
     "name": "stdout",
     "output_type": "stream",
     "text": [
      "enter your full nameclassified classified classified \n",
      "firstname classified\n",
      "middlename classified\n",
      "surname classified\n"
     ]
    }
   ],
   "source": [
    "fullname = input(\"enter your full name\")\n",
    "\n",
    "split_Var = fullname.split()\n",
    "\n",
    "print(\"firstname\",split_Var[0])\n",
    "print(\"middlename\",split_Var[1])\n",
    "print(\"surname\",split_Var[2])"
   ]
  },
  {
   "cell_type": "code",
   "execution_count": null,
   "id": "87cb1870",
   "metadata": {},
   "outputs": [],
   "source": []
  },
  {
   "cell_type": "code",
   "execution_count": 7,
   "id": "b10e77c4",
   "metadata": {},
   "outputs": [
    {
     "name": "stdout",
     "output_type": "stream",
     "text": [
      "first surname\n"
     ]
    }
   ],
   "source": [
    "a,b,c = \"first\",\"middle\",\"surname\"\n",
    "\n",
    "print(a,c)"
   ]
  },
  {
   "cell_type": "code",
   "execution_count": 10,
   "id": "fca28de4",
   "metadata": {},
   "outputs": [
    {
     "name": "stdout",
     "output_type": "stream",
     "text": [
      "1\n"
     ]
    },
    {
     "ename": "ValueError",
     "evalue": "not enough values to unpack (expected 3, got 1)",
     "output_type": "error",
     "traceback": [
      "\u001b[1;31m---------------------------------------------------------------------------\u001b[0m",
      "\u001b[1;31mValueError\u001b[0m                                Traceback (most recent call last)",
      "\u001b[1;32m~\\AppData\\Local\\Temp\\ipykernel_10296\\3953378904.py\u001b[0m in \u001b[0;36m<module>\u001b[1;34m\u001b[0m\n\u001b[1;32m----> 1\u001b[1;33m \u001b[0ma\u001b[0m\u001b[1;33m,\u001b[0m\u001b[0mb\u001b[0m\u001b[1;33m,\u001b[0m\u001b[0mc\u001b[0m \u001b[1;33m=\u001b[0m \u001b[0mmap\u001b[0m\u001b[1;33m(\u001b[0m\u001b[0mstr\u001b[0m\u001b[1;33m,\u001b[0m\u001b[0minput\u001b[0m\u001b[1;33m(\u001b[0m\u001b[1;33m)\u001b[0m\u001b[1;33m.\u001b[0m\u001b[0msplit\u001b[0m\u001b[1;33m(\u001b[0m\u001b[1;33m)\u001b[0m\u001b[1;33m)\u001b[0m\u001b[1;33m\u001b[0m\u001b[1;33m\u001b[0m\u001b[0m\n\u001b[0m",
      "\u001b[1;31mValueError\u001b[0m: not enough values to unpack (expected 3, got 1)"
     ]
    }
   ],
   "source": [
    "a,b,c = map(str,input().split())"
   ]
  },
  {
   "cell_type": "code",
   "execution_count": 17,
   "id": "4e7dd72e",
   "metadata": {},
   "outputs": [
    {
     "name": "stdout",
     "output_type": "stream",
     "text": [
      "0b11100100\n"
     ]
    }
   ],
   "source": [
    "a = 0b1101001\n",
    "b = 0b1111011\n",
    "\n",
    "binary_sum = a+b\n",
    "\n",
    "print(bin(binary_sum))"
   ]
  },
  {
   "cell_type": "code",
   "execution_count": 23,
   "id": "d98fd20b",
   "metadata": {},
   "outputs": [
    {
     "name": "stdout",
     "output_type": "stream",
     "text": [
      "0o12143522\n"
     ]
    }
   ],
   "source": [
    "a = 0o1033255\n",
    "b = 0o11110245\n",
    "\n",
    "octal_sum = a+b\n",
    "\n",
    "print(oct(octal_sum))"
   ]
  },
  {
   "cell_type": "code",
   "execution_count": 26,
   "id": "989dcc93",
   "metadata": {},
   "outputs": [
    {
     "name": "stdout",
     "output_type": "stream",
     "text": [
      "0x1dc8d1f\n"
     ]
    }
   ],
   "source": [
    "a = 0x153F342\n",
    "b = 0x8899DD\n",
    "\n",
    "hex_sum = a+b\n",
    "\n",
    "print(hex(hex_sum))"
   ]
  },
  {
   "cell_type": "code",
   "execution_count": 30,
   "id": "de1c6f56",
   "metadata": {},
   "outputs": [
    {
     "name": "stdout",
     "output_type": "stream",
     "text": [
      "(120+24j) 24.0 120.0\n"
     ]
    }
   ],
   "source": [
    "x=120+24j\n",
    "\n",
    "print(x, x.imag, x.real)"
   ]
  },
  {
   "cell_type": "code",
   "execution_count": null,
   "id": "ac8a12ed",
   "metadata": {},
   "outputs": [],
   "source": []
  }
 ],
 "metadata": {
  "kernelspec": {
   "display_name": "Python 3 (ipykernel)",
   "language": "python",
   "name": "python3"
  },
  "language_info": {
   "codemirror_mode": {
    "name": "ipython",
    "version": 3
   },
   "file_extension": ".py",
   "mimetype": "text/x-python",
   "name": "python",
   "nbconvert_exporter": "python",
   "pygments_lexer": "ipython3",
   "version": "3.9.13"
  }
 },
 "nbformat": 4,
 "nbformat_minor": 5
}
