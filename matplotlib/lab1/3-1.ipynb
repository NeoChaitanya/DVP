{
 "cells": [
  {
   "cell_type": "code",
   "execution_count": 2,
   "id": "e99d5100",
   "metadata": {},
   "outputs": [],
   "source": [
    "my_file = open(\"C:/Users/Computer/Documents/38/dvp/3/test.txt\", 'w')\n",
    "my_file.write(\"Hello World\")\n",
    "my_file.write(\"Hello World 1 \\n \\n \\n \")\n",
    "my_file.write(\"Hello World 2\")\n",
    "my_file.close()\n"
   ]
  },
  {
   "cell_type": "code",
   "execution_count": 3,
   "id": "ca8ca904",
   "metadata": {},
   "outputs": [
    {
     "name": "stdout",
     "output_type": "stream",
     "text": [
      "Hello WorldHello World 1 \n",
      "\n",
      " \n",
      "\n",
      " \n",
      "\n",
      " Hello World 2\n"
     ]
    }
   ],
   "source": [
    "my_file_r = open(\"C:/Users/Computer/Documents/38/dvp/3/test.txt\", 'r')\n",
    "\n",
    "my_list = my_file_r.readlines()\n",
    "\n",
    "for i in my_list:\n",
    "    print(i)\n",
    "\n",
    "my_file_r.close()"
   ]
  },
  {
   "cell_type": "code",
   "execution_count": 4,
   "id": "47cdb7ca",
   "metadata": {},
   "outputs": [],
   "source": [
    "my_file = open(\"C:/Users/Computer/Documents/38/dvp/3/test.txt\", 'w')\n",
    "\n",
    "languages = ['Python\\n','Java\\n','German\\n','Dutch\\n','English \\n','LISp\\n']\n",
    "\n",
    "my_file.writelines(languages)\n",
    "my_file.close()"
   ]
  },
  {
   "cell_type": "code",
   "execution_count": 5,
   "id": "50732f6e",
   "metadata": {},
   "outputs": [
    {
     "name": "stdout",
     "output_type": "stream",
     "text": [
      "Python\n",
      "\n",
      "Java\n",
      "\n",
      "German\n",
      "\n",
      "Dutch\n",
      "\n",
      "English \n",
      "\n",
      "LISp\n",
      "\n"
     ]
    }
   ],
   "source": [
    "my_file_r = open(\"C:/Users/Computer/Documents/38/dvp/3/test.txt\", 'r')\n",
    "\n",
    "my_list = my_file_r.readlines()\n",
    "\n",
    "for i in my_list:\n",
    "    print(i)\n",
    "\n",
    "my_file_r.close()"
   ]
  },
  {
   "cell_type": "code",
   "execution_count": null,
   "id": "1408525d",
   "metadata": {},
   "outputs": [],
   "source": [
    "my_file = open(\"C:/Users/Computer/Documents/38/dvp/3/test.txt\", 'w')\n",
    "\n",
    "string = str(input(string))\n",
    "\n",
    "my_file.writelines(languages)\n",
    "my_file.close()"
   ]
  },
  {
   "cell_type": "code",
   "execution_count": 1,
   "id": "3a28b08a",
   "metadata": {},
   "outputs": [
    {
     "name": "stdout",
     "output_type": "stream",
     "text": [
      "gfsd34\n"
     ]
    }
   ],
   "source": [
    "my_file = open(\"C:/Users/Computer/Documents/38/dvp/3/test.txt\", 'w')\n",
    "\n",
    "string = str(input())\n",
    "\n",
    "my_file.writelines(string)\n",
    "my_file.close()"
   ]
  },
  {
   "cell_type": "code",
   "execution_count": 2,
   "id": "c853713e",
   "metadata": {},
   "outputs": [
    {
     "name": "stdout",
     "output_type": "stream",
     "text": [
      "gfsd34\n"
     ]
    }
   ],
   "source": [
    "my_file_r = open(\"C:/Users/Computer/Documents/38/dvp/3/test.txt\", 'r')\n",
    "\n",
    "my_list = my_file_r.readlines()\n",
    "\n",
    "for i in my_list:\n",
    "    print(i)\n",
    "\n",
    "my_file_r.close()"
   ]
  },
  {
   "cell_type": "code",
   "execution_count": 9,
   "id": "cde2ef2e",
   "metadata": {},
   "outputs": [],
   "source": [
    "my_file = open(\"C:/Users/Computer/Documents/38/dvp/3/test.txt\", 'w')\n",
    "\n",
    "\n",
    "\n",
    "languages = ['Python\\n','Java\\n','German\\n','Dutch\\n','English \\n','LISp\\n']\n",
    "\n",
    "\n",
    "str2 = ''.join(languages)\n",
    "\n",
    "my_file.writelines(str2)\n",
    "my_file.close()"
   ]
  },
  {
   "cell_type": "code",
   "execution_count": 10,
   "id": "33025d10",
   "metadata": {},
   "outputs": [
    {
     "name": "stdout",
     "output_type": "stream",
     "text": [
      "Python\n",
      "\n",
      "Java\n",
      "\n",
      "German\n",
      "\n",
      "Dutch\n",
      "\n",
      "English \n",
      "\n",
      "LISp\n",
      "\n"
     ]
    }
   ],
   "source": [
    "my_file_r = open(\"C:/Users/Computer/Documents/38/dvp/3/test.txt\", 'r')\n",
    "\n",
    "my_list = my_file_r.readlines()\n",
    "\n",
    "for i in my_list:\n",
    "    print(i)\n",
    "\n",
    "my_file_r.close()"
   ]
  },
  {
   "cell_type": "code",
   "execution_count": 17,
   "id": "99ea79a0",
   "metadata": {},
   "outputs": [],
   "source": [
    "my_file = open(\"C:/Users/Computer/Documents/38/dvp/3/test.txt\", 'a+')\n",
    "my_file.write(\"\\n\\nlslskj\")\n",
    "my_file.close()"
   ]
  },
  {
   "cell_type": "code",
   "execution_count": 21,
   "id": "7e1f101a",
   "metadata": {},
   "outputs": [
    {
     "name": "stdout",
     "output_type": "stream",
     "text": [
      "Python\n",
      "Java\n",
      "German\n",
      "Dutch\n",
      "English \n",
      "LISp\n",
      "\n",
      "\n",
      "lslskj\n",
      "\n",
      "lslskj\n",
      "\n"
     ]
    }
   ],
   "source": [
    "my_file = open(\"C:/Users/Computer/Documents/38/dvp/3/test.txt\", 'r')\n",
    "print(my_file.read())\n",
    "print(my_file.read(4))\n",
    "my_file.close()"
   ]
  },
  {
   "cell_type": "code",
   "execution_count": 29,
   "id": "8e174e89",
   "metadata": {},
   "outputs": [
    {
     "name": "stdout",
     "output_type": "stream",
     "text": [
      "Python\n",
      "Jav\n"
     ]
    }
   ],
   "source": [
    "my_file = open(\"C:/Users/Computer/Documents/38/dvp/3/test.txt\", 'r')\n",
    "print(my_file.read(10))\n",
    "my_file.close()"
   ]
  },
  {
   "cell_type": "code",
   "execution_count": 34,
   "id": "3b79dc5f",
   "metadata": {},
   "outputs": [
    {
     "name": "stdout",
     "output_type": "stream",
     "text": [
      "<_io.TextIOWrapper name='C:/Users/Computer/Documents/38/dvp/3/test3.txt' mode='x' encoding='cp1252'>\n",
      "File created\n"
     ]
    }
   ],
   "source": [
    "fileptr = open(\"C:/Users/Computer/Documents/38/dvp/3/test3.txt\", \"x\")\n",
    "print(fileptr)\n",
    "if fileptr:\n",
    "    print(\"File created\")"
   ]
  },
  {
   "cell_type": "code",
   "execution_count": 36,
   "id": "b75ec447",
   "metadata": {},
   "outputs": [
    {
     "ename": "ValueError",
     "evalue": "invalid mode: '-x'",
     "output_type": "error",
     "traceback": [
      "\u001b[1;31m---------------------------------------------------------------------------\u001b[0m",
      "\u001b[1;31mValueError\u001b[0m                                Traceback (most recent call last)",
      "\u001b[1;32m~\\AppData\\Local\\Temp\\ipykernel_18296\\786010371.py\u001b[0m in \u001b[0;36m<module>\u001b[1;34m\u001b[0m\n\u001b[1;32m----> 1\u001b[1;33m \u001b[0mfileptr\u001b[0m \u001b[1;33m=\u001b[0m \u001b[0mopen\u001b[0m\u001b[1;33m(\u001b[0m\u001b[1;34m\"C:/Users/Computer/Documents/38/dvp/3/try.txt\"\u001b[0m\u001b[1;33m,\u001b[0m \u001b[1;34m\"-x\"\u001b[0m\u001b[1;33m)\u001b[0m\u001b[1;33m\u001b[0m\u001b[1;33m\u001b[0m\u001b[0m\n\u001b[0m",
      "\u001b[1;31mValueError\u001b[0m: invalid mode: '-x'"
     ]
    }
   ],
   "source": [
    "fileptr = open(\"C:/Users/Computer/Documents/38/dvp/3/test3.txt\", \"x\")"
   ]
  },
  {
   "cell_type": "code",
   "execution_count": 39,
   "id": "04056857",
   "metadata": {},
   "outputs": [
    {
     "ename": "FileNotFoundError",
     "evalue": "[Errno 2] No such file or directory: 'C:/Users/Computer/Documents/38/dvp/3/try2.txt'",
     "output_type": "error",
     "traceback": [
      "\u001b[1;31m---------------------------------------------------------------------------\u001b[0m",
      "\u001b[1;31mFileNotFoundError\u001b[0m                         Traceback (most recent call last)",
      "\u001b[1;32m~\\AppData\\Local\\Temp\\ipykernel_18296\\929458703.py\u001b[0m in \u001b[0;36m<module>\u001b[1;34m\u001b[0m\n\u001b[1;32m----> 1\u001b[1;33m \u001b[0mtext_file\u001b[0m \u001b[1;33m=\u001b[0m \u001b[0mopen\u001b[0m\u001b[1;33m(\u001b[0m\u001b[1;34m\"C:/Users/Computer/Documents/38/dvp/3/try2.txt\"\u001b[0m\u001b[1;33m,\u001b[0m \u001b[1;34m\"r\"\u001b[0m\u001b[1;33m)\u001b[0m\u001b[1;33m\u001b[0m\u001b[1;33m\u001b[0m\u001b[0m\n\u001b[0m\u001b[0;32m      2\u001b[0m \u001b[0mfile_list\u001b[0m \u001b[1;33m=\u001b[0m \u001b[0mtext_file\u001b[0m\u001b[1;33m.\u001b[0m\u001b[0mreadlines\u001b[0m\u001b[1;33m(\u001b[0m\u001b[1;33m)\u001b[0m\u001b[1;33m\u001b[0m\u001b[1;33m\u001b[0m\u001b[0m\n\u001b[0;32m      3\u001b[0m \u001b[1;33m\u001b[0m\u001b[0m\n\u001b[0;32m      4\u001b[0m \u001b[1;32mfor\u001b[0m \u001b[0mi\u001b[0m \u001b[1;32min\u001b[0m \u001b[0mfile_list\u001b[0m\u001b[1;33m:\u001b[0m\u001b[1;33m\u001b[0m\u001b[1;33m\u001b[0m\u001b[0m\n\u001b[0;32m      5\u001b[0m     \u001b[0mprint\u001b[0m\u001b[1;33m(\u001b[0m\u001b[0mi\u001b[0m\u001b[1;33m)\u001b[0m\u001b[1;33m\u001b[0m\u001b[1;33m\u001b[0m\u001b[0m\n",
      "\u001b[1;31mFileNotFoundError\u001b[0m: [Errno 2] No such file or directory: 'C:/Users/Computer/Documents/38/dvp/3/try2.txt'"
     ]
    }
   ],
   "source": [
    "text_file = open(\"C:/Users/Computer/Documents/38/dvp/3/try2.txt\", \"r\")\n",
    "file_list = text_file.readlines()\n",
    "\n",
    "for i in file_list:\n",
    "    print(i)\n",
    "\n",
    "text_file.close()"
   ]
  },
  {
   "cell_type": "code",
   "execution_count": 42,
   "id": "f130d630",
   "metadata": {},
   "outputs": [
    {
     "name": "stdout",
     "output_type": "stream",
     "text": [
      "hello\n"
     ]
    }
   ],
   "source": [
    "text_file = open(\"C:/Users/Computer/Documents/38/dvp/3/try2.txt\", \"w\")\n",
    "text_file.write(\"hello\")\n",
    "text_file.close()\n",
    "\n",
    "text_file_r = open(\"C:/Users/Computer/Documents/38/dvp/3/try2.txt\", \"r\")\n",
    "file_list = text_file_r.readlines()\n",
    "\n",
    "for i in file_list:\n",
    "    print(i)\n",
    "\n",
    "text_file_r.close()\n"
   ]
  },
  {
   "cell_type": "code",
   "execution_count": 43,
   "id": "5ea11cc1",
   "metadata": {},
   "outputs": [
    {
     "name": "stdout",
     "output_type": "stream",
     "text": [
      "Pls enter data:\n",
      "kljd\n",
      "Pls enter data:\n",
      "lkdfjg\n",
      "Pls enter data:\n",
      "dfk\n",
      "Pls enter data:\n",
      "dfkld\n",
      "Pls enter data:\n",
      "d\n",
      "Pls enter data:\n",
      "f\n",
      "Pls enter data:\n",
      "f\n",
      "Pls enter data:\n",
      "d\n",
      "Pls enter data:\n",
      "h\n"
     ]
    }
   ],
   "source": [
    "text_file = open(\"C:/Users/Computer/Documents/38/dvp/3/try2.txt\", \"w\")\n",
    "word_list = []\n",
    "for i in range(1,10):\n",
    "    print(\"Pls enter data:\")\n",
    "    line = input()\n",
    "    word_list.append(line)\n",
    "text_file.writelines(word_list)\n",
    "text_file.close()"
   ]
  },
  {
   "cell_type": "code",
   "execution_count": 46,
   "id": "9b03cbd7",
   "metadata": {},
   "outputs": [
    {
     "name": "stdout",
     "output_type": "stream",
     "text": [
      "kljdlkdfjgdfkdfklddffdh\n"
     ]
    }
   ],
   "source": [
    "text_file_r = open(\"C:/Users/Computer/Documents/38/dvp/3/try2.txt\", \"r\")\n",
    "file_list = text_file_r.readlines()\n",
    "\n",
    "for i in file_list:\n",
    "    print(i )\n",
    "\n",
    "text_file_r.close()\n",
    "\n"
   ]
  },
  {
   "cell_type": "code",
   "execution_count": 48,
   "id": "3135c985",
   "metadata": {},
   "outputs": [],
   "source": [
    "import os "
   ]
  },
  {
   "cell_type": "code",
   "execution_count": 53,
   "id": "0a4ca3be",
   "metadata": {},
   "outputs": [
    {
     "ename": "FileNotFoundError",
     "evalue": "[WinError 2] The system cannot find the file specified: 'C:/Users/Computer/Documents/38/dvp/3/try3.txt'",
     "output_type": "error",
     "traceback": [
      "\u001b[1;31m---------------------------------------------------------------------------\u001b[0m",
      "\u001b[1;31mFileNotFoundError\u001b[0m                         Traceback (most recent call last)",
      "\u001b[1;32m~\\AppData\\Local\\Temp\\ipykernel_18296\\2873588005.py\u001b[0m in \u001b[0;36m<module>\u001b[1;34m\u001b[0m\n\u001b[1;32m----> 1\u001b[1;33m \u001b[0mos\u001b[0m\u001b[1;33m.\u001b[0m\u001b[0mremove\u001b[0m\u001b[1;33m(\u001b[0m\u001b[1;34m\"C:/Users/Computer/Documents/38/dvp/3/try3.txt\"\u001b[0m\u001b[1;33m)\u001b[0m\u001b[1;33m\u001b[0m\u001b[1;33m\u001b[0m\u001b[0m\n\u001b[0m",
      "\u001b[1;31mFileNotFoundError\u001b[0m: [WinError 2] The system cannot find the file specified: 'C:/Users/Computer/Documents/38/dvp/3/try3.txt'"
     ]
    }
   ],
   "source": [
    "os.remove(\"C:/Users/Computer/Documents/38/dvp/3/try3.txt\")"
   ]
  },
  {
   "cell_type": "code",
   "execution_count": 54,
   "id": "ef0c4620",
   "metadata": {},
   "outputs": [],
   "source": [
    "os.remove(\"C:/Users/Computer/Documents/38/dvp/3/try2.txt\")"
   ]
  },
  {
   "cell_type": "code",
   "execution_count": 55,
   "id": "f8c410e0",
   "metadata": {},
   "outputs": [
    {
     "ename": "FileNotFoundError",
     "evalue": "[Errno 2] No such file or directory: 'C:/Users/Computer/Documents/38/dvp/3/try2.txt'",
     "output_type": "error",
     "traceback": [
      "\u001b[1;31m---------------------------------------------------------------------------\u001b[0m",
      "\u001b[1;31mFileNotFoundError\u001b[0m                         Traceback (most recent call last)",
      "\u001b[1;32m~\\AppData\\Local\\Temp\\ipykernel_18296\\3805422373.py\u001b[0m in \u001b[0;36m<module>\u001b[1;34m\u001b[0m\n\u001b[1;32m----> 1\u001b[1;33m \u001b[0mcheck\u001b[0m \u001b[1;33m=\u001b[0m \u001b[0mopen\u001b[0m\u001b[1;33m(\u001b[0m\u001b[1;34m\"C:/Users/Computer/Documents/38/dvp/3/try2.txt\"\u001b[0m\u001b[1;33m,\u001b[0m \u001b[1;34m\"r\"\u001b[0m\u001b[1;33m)\u001b[0m\u001b[1;33m\u001b[0m\u001b[1;33m\u001b[0m\u001b[0m\n\u001b[0m",
      "\u001b[1;31mFileNotFoundError\u001b[0m: [Errno 2] No such file or directory: 'C:/Users/Computer/Documents/38/dvp/3/try2.txt'"
     ]
    }
   ],
   "source": [
    "check = open(\"C:/Users/Computer/Documents/38/dvp/3/try2.txt\", \"r\")"
   ]
  },
  {
   "cell_type": "code",
   "execution_count": null,
   "id": "be6bef74",
   "metadata": {},
   "outputs": [],
   "source": []
  }
 ],
 "metadata": {
  "kernelspec": {
   "display_name": "Python 3 (ipykernel)",
   "language": "python",
   "name": "python3"
  },
  "language_info": {
   "codemirror_mode": {
    "name": "ipython",
    "version": 3
   },
   "file_extension": ".py",
   "mimetype": "text/x-python",
   "name": "python",
   "nbconvert_exporter": "python",
   "pygments_lexer": "ipython3",
   "version": "3.9.13"
  }
 },
 "nbformat": 4,
 "nbformat_minor": 5
}
