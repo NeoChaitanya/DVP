{
 "cells": [
  {
   "cell_type": "markdown",
   "id": "e117100b",
   "metadata": {},
   "source": [
    "    LAB ASSIGNMENT 1"
   ]
  },
  {
   "cell_type": "code",
   "execution_count": 7,
   "id": "653cea48",
   "metadata": {},
   "outputs": [
    {
     "name": "stdout",
     "output_type": "stream",
     "text": [
      "pls enter your namefksd\n",
      "pls enter your rollo432\n",
      "pls enter your addresskdf\n",
      "fksd\n",
      "432\n",
      "kdf\n"
     ]
    }
   ],
   "source": [
    "# programe that takes inputs and displays it\n",
    "\n",
    "name=input(\"pls enter your name\")\n",
    "rollno=int(input(\"pls enter your rollo\"))\n",
    "address=input(\"pls enter your address\")\n",
    "\n",
    "print(name)\n",
    "print(rollno)\n",
    "print(address)\n"
   ]
  },
  {
   "cell_type": "code",
   "execution_count": 8,
   "id": "9563722e",
   "metadata": {},
   "outputs": [
    {
     "name": "stdout",
     "output_type": "stream",
     "text": [
      "43\n",
      "65\n",
      "108\n"
     ]
    }
   ],
   "source": [
    "# addition of variables\n",
    "\n",
    "int1=int(input())\n",
    "int2=int(input())\n",
    "\n",
    "val=int1+int2\n",
    "\n",
    "print(val)"
   ]
  },
  {
   "cell_type": "code",
   "execution_count": 9,
   "id": "6b67b5ab",
   "metadata": {},
   "outputs": [
    {
     "name": "stdout",
     "output_type": "stream",
     "text": [
      "enter input temprature in C43\n",
      "109.4\n"
     ]
    }
   ],
   "source": [
    "#temprature conversion\n",
    "\n",
    "temp_C=int(input(\"enter input temprature in C\"))\n",
    "temp_F=9/5*temp_C+32\n",
    "print(temp_F)"
   ]
  },
  {
   "cell_type": "code",
   "execution_count": 15,
   "id": "0fa7b5f2",
   "metadata": {},
   "outputs": [
    {
     "name": "stdout",
     "output_type": "stream",
     "text": [
      "enter 1st side43\n",
      "entet 2nd side32\n",
      "enter 3rd side4\n"
     ]
    },
    {
     "ename": "TypeError",
     "evalue": "'float' object is not callable",
     "output_type": "error",
     "traceback": [
      "\u001b[1;31m---------------------------------------------------------------------------\u001b[0m",
      "\u001b[1;31mTypeError\u001b[0m                                 Traceback (most recent call last)",
      "\u001b[1;32m~\\AppData\\Local\\Temp\\ipykernel_16972\\1191405561.py\u001b[0m in \u001b[0;36m<module>\u001b[1;34m\u001b[0m\n\u001b[0;32m      7\u001b[0m \u001b[0ms\u001b[0m\u001b[1;33m=\u001b[0m\u001b[1;33m(\u001b[0m\u001b[0mside1\u001b[0m\u001b[1;33m+\u001b[0m\u001b[0mside2\u001b[0m\u001b[1;33m+\u001b[0m\u001b[0mside3\u001b[0m\u001b[1;33m)\u001b[0m\u001b[1;33m/\u001b[0m\u001b[1;36m2\u001b[0m\u001b[1;33m\u001b[0m\u001b[1;33m\u001b[0m\u001b[0m\n\u001b[0;32m      8\u001b[0m \u001b[1;33m\u001b[0m\u001b[0m\n\u001b[1;32m----> 9\u001b[1;33m \u001b[0mtemp_area\u001b[0m\u001b[1;33m=\u001b[0m\u001b[0mint\u001b[0m\u001b[1;33m(\u001b[0m\u001b[0ms\u001b[0m\u001b[1;33m(\u001b[0m\u001b[0ms\u001b[0m\u001b[1;33m-\u001b[0m\u001b[0mside1\u001b[0m\u001b[1;33m)\u001b[0m\u001b[1;33m(\u001b[0m\u001b[0ms\u001b[0m\u001b[1;33m-\u001b[0m\u001b[0mside2\u001b[0m\u001b[1;33m)\u001b[0m\u001b[1;33m(\u001b[0m\u001b[0ms\u001b[0m\u001b[1;33m-\u001b[0m\u001b[0mside3\u001b[0m\u001b[1;33m)\u001b[0m\u001b[1;33m)\u001b[0m\u001b[1;33m\u001b[0m\u001b[1;33m\u001b[0m\u001b[0m\n\u001b[0m\u001b[0;32m     10\u001b[0m \u001b[1;33m\u001b[0m\u001b[0m\n\u001b[0;32m     11\u001b[0m \u001b[0marea\u001b[0m \u001b[1;33m=\u001b[0m \u001b[0mtemp_area\u001b[0m\u001b[1;33m**\u001b[0m\u001b[1;36m1\u001b[0m\u001b[1;33m/\u001b[0m\u001b[1;36m2\u001b[0m\u001b[1;33m\u001b[0m\u001b[1;33m\u001b[0m\u001b[0m\n",
      "\u001b[1;31mTypeError\u001b[0m: 'float' object is not callable"
     ]
    }
   ],
   "source": [
    "#area of triangle\n",
    "\n",
    "side1=int(input(\"enter 1st side\"))\n",
    "side2=int(input(\"entet 2nd side\"))\n",
    "side3=int(input(\"enter 3rd side\"))\n",
    "\n",
    "s=(side1+side2+side3)/2\n",
    "\n",
    "temp_area=s(s-side1)(s-side2)(s-side3)\n",
    "\n",
    "area = temp_area**1/2\n",
    "#**(index of 1/2) is used for sqr root which can be an alternative for math function \n"
   ]
  },
  {
   "cell_type": "code",
   "execution_count": null,
   "id": "3a1a04b2",
   "metadata": {},
   "outputs": [],
   "source": [
    "#variable swap \n",
    "\n",
    "var1=input(\"enter 1st variable \")\n",
    "var2=input(\"enter 2nd varaible\")\n",
    "\n",
    "temp_var = var1\n",
    "var1 = var2\n",
    "var2 = temp_var\n",
    "\n",
    "print(var1)\n",
    "print(var2)"
   ]
  },
  {
   "cell_type": "code",
   "execution_count": 5,
   "id": "a673fbd4",
   "metadata": {},
   "outputs": [
    {
     "name": "stdout",
     "output_type": "stream",
     "text": [
      "enter your full namefsd sdf  sdf\n",
      "f\n",
      "s\n",
      "s\n"
     ]
    }
   ],
   "source": [
    "#split\n",
    "\n",
    "user_name = input(\"enter your full name\")\n",
    "\n",
    "split_var=user_name.split()\n",
    "\n",
    "print(split_var[0][0])\n",
    "print(split_var[1][0])\n",
    "print(split_var[2][0])"
   ]
  },
  {
   "cell_type": "code",
   "execution_count": null,
   "id": "1b007b6a",
   "metadata": {},
   "outputs": [],
   "source": []
  }
 ],
 "metadata": {
  "kernelspec": {
   "display_name": "Python 3 (ipykernel)",
   "language": "python",
   "name": "python3"
  },
  "language_info": {
   "codemirror_mode": {
    "name": "ipython",
    "version": 3
   },
   "file_extension": ".py",
   "mimetype": "text/x-python",
   "name": "python",
   "nbconvert_exporter": "python",
   "pygments_lexer": "ipython3",
   "version": "3.9.13"
  }
 },
 "nbformat": 4,
 "nbformat_minor": 5
}
