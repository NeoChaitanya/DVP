{
 "cells": [
  {
   "cell_type": "code",
   "execution_count": 1,
   "id": "abf288a5",
   "metadata": {},
   "outputs": [],
   "source": [
    "number_of_passengers = 5\n",
    "number_of_baggage = 2\n",
    "secrity_check=True"
   ]
  },
  {
   "cell_type": "code",
   "execution_count": 2,
   "id": "61864a0a",
   "metadata": {},
   "outputs": [
    {
     "name": "stdout",
     "output_type": "stream",
     "text": [
      "Securty check of passenger: 1 --baggage 1 baggage cleared\n",
      "Securty check of passenger: 1 --baggage 2 baggage cleared\n",
      "Securty check of passenger: 2 --baggage 1 baggage cleared\n",
      "Securty check of passenger: 2 --baggage 2 baggage cleared\n",
      "Securty check of passenger: 3 --baggage 1 baggage cleared\n",
      "Securty check of passenger: 3 --baggage 2 baggage cleared\n",
      "Securty check of passenger: 4 --baggage 1 baggage cleared\n",
      "Securty check of passenger: 4 --baggage 2 baggage cleared\n",
      "Securty check of passenger: 5 --baggage 1 baggage cleared\n",
      "Securty check of passenger: 5 --baggage 2 baggage cleared\n"
     ]
    }
   ],
   "source": [
    "for passenger_count in range(1, number_of_passengers+1):\n",
    "    for baggage_cout in range(1, number_of_baggage+1):\n",
    "        if(secrity_check == True):\n",
    "            print(\"Securty check of passenger:\", passenger_count, \"--baggage\", baggage_cout,\"baggage cleared\")\n",
    "        else:\n",
    "            print(\"securit check of passenger\", passenger_count,\"--baggage\",baggage_cout,\"baggage not cleared\")"
   ]
  },
  {
   "cell_type": "code",
   "execution_count": null,
   "id": "5aa61b21",
   "metadata": {},
   "outputs": [],
   "source": []
  }
 ],
 "metadata": {
  "kernelspec": {
   "display_name": "Python 3 (ipykernel)",
   "language": "python",
   "name": "python3"
  },
  "language_info": {
   "codemirror_mode": {
    "name": "ipython",
    "version": 3
   },
   "file_extension": ".py",
   "mimetype": "text/x-python",
   "name": "python",
   "nbconvert_exporter": "python",
   "pygments_lexer": "ipython3",
   "version": "3.9.13"
  }
 },
 "nbformat": 4,
 "nbformat_minor": 5
}
