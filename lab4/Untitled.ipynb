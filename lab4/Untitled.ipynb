{
 "cells": [
  {
   "cell_type": "markdown",
   "id": "bf68f423",
   "metadata": {},
   "source": [
    "lab 3"
   ]
  },
  {
   "cell_type": "code",
   "execution_count": 1,
   "id": "fddf21ef",
   "metadata": {},
   "outputs": [],
   "source": [
    "import math\n",
    "import random as rand"
   ]
  },
  {
   "cell_type": "code",
   "execution_count": 2,
   "id": "d8a69a0a",
   "metadata": {},
   "outputs": [],
   "source": [
    "std_marks=[[],[],[]]\n",
    "std_name=[]\n",
    "std_rollno=[]"
   ]
  },
  {
   "cell_type": "code",
   "execution_count": 3,
   "id": "a7efcaaa",
   "metadata": {},
   "outputs": [
    {
     "name": "stdout",
     "output_type": "stream",
     "text": [
      "enter namesfkjd\n",
      "enter rollno321\n",
      "enter marks for sub 1231\n",
      "enter marks for sub 2123\n",
      "enter marks for sub 312312\n",
      "enter namesdfkj\n",
      "enter rollno324\n",
      "enter marks for sub 1324\n",
      "enter marks for sub 2234\n",
      "enter marks for sub 3234\n",
      "enter nameslkf\n",
      "enter rollno4234\n",
      "enter marks for sub 1234\n",
      "enter marks for sub 2234\n",
      "enter marks for sub 332\n"
     ]
    }
   ],
   "source": [
    "for i in range(3):\n",
    "    std_name.append(input(\"enter name\"))\n",
    "    std_rollno.append(int(input(\"enter rollno\")))\n",
    "    std_marks[0].append(int(input(\"enter marks for sub 1\")))\n",
    "    std_marks[1].append(int(input(\"enter marks for sub 2\")))\n",
    "    std_marks[2].append(int(input(\"enter marks for sub 3\")))"
   ]
  },
  {
   "cell_type": "code",
   "execution_count": 4,
   "id": "da244a11",
   "metadata": {},
   "outputs": [
    {
     "name": "stdout",
     "output_type": "stream",
     "text": [
      "[[231, 324, 234], [123, 234, 234], [12312, 234, 32]]\n"
     ]
    }
   ],
   "source": [
    "print(std_marks)"
   ]
  },
  {
   "cell_type": "code",
   "execution_count": 5,
   "id": "bec38ef4",
   "metadata": {},
   "outputs": [
    {
     "name": "stdout",
     "output_type": "stream",
     "text": [
      "Name  sfkjd Rollno  321 Sub1 marks 231 Sub2 marks 324 Sub3 marks 234\n",
      "Name  sdfkj Rollno  324 Sub1 marks 123 Sub2 marks 234 Sub3 marks 234\n",
      "Name  slkf Rollno  4234 Sub1 marks 12312 Sub2 marks 234 Sub3 marks 32\n"
     ]
    }
   ],
   "source": [
    "\n",
    "for i in range(3):\n",
    "    print(\"Name \",std_name[i],\"Rollno \",std_rollno[i],\"Sub1 marks\",std_marks[i][0],\"Sub2 marks\",std_marks[i][1],\"Sub3 marks\",std_marks[i][2])"
   ]
  },
  {
   "cell_type": "code",
   "execution_count": 7,
   "id": "5c799edf",
   "metadata": {},
   "outputs": [
    {
     "ename": "IndexError",
     "evalue": "list assignment index out of range",
     "output_type": "error",
     "traceback": [
      "\u001b[1;31m---------------------------------------------------------------------------\u001b[0m",
      "\u001b[1;31mIndexError\u001b[0m                                Traceback (most recent call last)",
      "\u001b[1;32m~\\AppData\\Local\\Temp\\ipykernel_20436\\283669416.py\u001b[0m in \u001b[0;36m<module>\u001b[1;34m\u001b[0m\n\u001b[0;32m      3\u001b[0m     \u001b[1;32mfor\u001b[0m \u001b[0mj\u001b[0m \u001b[1;32min\u001b[0m \u001b[0mrange\u001b[0m\u001b[1;33m(\u001b[0m\u001b[1;36m0\u001b[0m\u001b[1;33m,\u001b[0m\u001b[1;36m3\u001b[0m\u001b[1;33m)\u001b[0m\u001b[1;33m:\u001b[0m\u001b[1;33m\u001b[0m\u001b[1;33m\u001b[0m\u001b[0m\n\u001b[0;32m      4\u001b[0m         \u001b[0mtemp\u001b[0m \u001b[1;33m=\u001b[0m \u001b[0mint\u001b[0m\u001b[1;33m(\u001b[0m\u001b[0mstd_marks\u001b[0m\u001b[1;33m[\u001b[0m\u001b[0mi\u001b[0m\u001b[1;33m]\u001b[0m\u001b[1;33m[\u001b[0m\u001b[0mj\u001b[0m\u001b[1;33m]\u001b[0m\u001b[1;33m)\u001b[0m\u001b[1;33m\u001b[0m\u001b[1;33m\u001b[0m\u001b[0m\n\u001b[1;32m----> 5\u001b[1;33m         \u001b[0mpercent\u001b[0m\u001b[1;33m[\u001b[0m\u001b[0mi\u001b[0m\u001b[1;33m]\u001b[0m\u001b[1;33m[\u001b[0m\u001b[0mj\u001b[0m\u001b[1;33m]\u001b[0m \u001b[1;33m=\u001b[0m \u001b[1;33m(\u001b[0m\u001b[0mtemp\u001b[0m\u001b[1;33m/\u001b[0m\u001b[1;36m40\u001b[0m\u001b[1;33m)\u001b[0m\u001b[1;33m*\u001b[0m\u001b[1;36m100\u001b[0m\u001b[1;33m\u001b[0m\u001b[1;33m\u001b[0m\u001b[0m\n\u001b[0m",
      "\u001b[1;31mIndexError\u001b[0m: list assignment index out of range"
     ]
    }
   ],
   "source": [
    "percent=[[],[],[]]\n",
    "for i in range(0,3):\n",
    "    for j in range(0,3):\n",
    "        temp = int(std_marks[i][j])\n",
    "        percent[i][j] = (temp/40)*100"
   ]
  },
  {
   "cell_type": "code",
   "execution_count": null,
   "id": "f73cccbe",
   "metadata": {},
   "outputs": [],
   "source": []
  }
 ],
 "metadata": {
  "kernelspec": {
   "display_name": "Python 3 (ipykernel)",
   "language": "python",
   "name": "python3"
  },
  "language_info": {
   "codemirror_mode": {
    "name": "ipython",
    "version": 3
   },
   "file_extension": ".py",
   "mimetype": "text/x-python",
   "name": "python",
   "nbconvert_exporter": "python",
   "pygments_lexer": "ipython3",
   "version": "3.9.13"
  }
 },
 "nbformat": 4,
 "nbformat_minor": 5
}
