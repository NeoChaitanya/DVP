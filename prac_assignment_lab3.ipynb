{
 "cells": [
  {
   "cell_type": "code",
   "execution_count": 1,
   "id": "33d2a844",
   "metadata": {},
   "outputs": [],
   "source": [
    "def display():\n",
    "    print(\"Hello World\")"
   ]
  },
  {
   "cell_type": "code",
   "execution_count": 2,
   "id": "e11a6721",
   "metadata": {},
   "outputs": [
    {
     "name": "stdout",
     "output_type": "stream",
     "text": [
      "Hello World\n"
     ]
    }
   ],
   "source": [
    "display()"
   ]
  },
  {
   "cell_type": "code",
   "execution_count": 4,
   "id": "954c0751",
   "metadata": {},
   "outputs": [],
   "source": [
    "def greet():\n",
    "    name = str(input(\"Enter your name\"))\n",
    "    print(\"Hello, \",name)"
   ]
  },
  {
   "cell_type": "code",
   "execution_count": 5,
   "id": "c6709ff2",
   "metadata": {},
   "outputs": [
    {
     "name": "stdout",
     "output_type": "stream",
     "text": [
      "Enter your namefj\n",
      "Hello,  fj\n"
     ]
    }
   ],
   "source": [
    "greet()"
   ]
  },
  {
   "cell_type": "code",
   "execution_count": 6,
   "id": "4fb5317b",
   "metadata": {},
   "outputs": [],
   "source": [
    "def add(x,y):\n",
    "    return x+y\n",
    "    "
   ]
  },
  {
   "cell_type": "code",
   "execution_count": 7,
   "id": "ade129ba",
   "metadata": {},
   "outputs": [
    {
     "data": {
      "text/plain": [
       "34"
      ]
     },
     "execution_count": 7,
     "metadata": {},
     "output_type": "execute_result"
    }
   ],
   "source": [
    "x = 23\n",
    "y = 11\n",
    "\n",
    "add(x,y)"
   ]
  },
  {
   "cell_type": "code",
   "execution_count": 10,
   "id": "f3f89c83",
   "metadata": {},
   "outputs": [],
   "source": [
    "def sum(x,y):\n",
    "    add = x+y\n",
    "    print(\"The sum of\",x,\"and\",y,\" is \", add)\n",
    "    \n",
    "    return add\n"
   ]
  },
  {
   "cell_type": "code",
   "execution_count": 11,
   "id": "8e58b6f5",
   "metadata": {},
   "outputs": [
    {
     "name": "stdout",
     "output_type": "stream",
     "text": [
      "The sum of 23 and 11  is  34\n"
     ]
    },
    {
     "data": {
      "text/plain": [
       "34"
      ]
     },
     "execution_count": 11,
     "metadata": {},
     "output_type": "execute_result"
    }
   ],
   "source": [
    "sum(x,y)"
   ]
  },
  {
   "cell_type": "code",
   "execution_count": 19,
   "id": "2a64fef2",
   "metadata": {},
   "outputs": [
    {
     "name": "stdout",
     "output_type": "stream",
     "text": [
      "Enter the first number432\n",
      "Enter the second number234\n",
      "The sum is:  666\n"
     ]
    }
   ],
   "source": [
    "\n",
    "def sum_with_input():\n",
    "    num1 = int(input(\"Enter the first number\"))\n",
    "    num2 = int(input(\"Enter the second number\"))\n",
    "    \n",
    "    a = num1+num2\n",
    "    \n",
    "    print(\"The sum is: \",a)\n",
    "    \n",
    "    \n",
    "num1 = 342\n",
    "num2 = 42\n",
    "\n",
    "sum_with_input()"
   ]
  },
  {
   "cell_type": "code",
   "execution_count": 16,
   "id": "74b67178",
   "metadata": {},
   "outputs": [
    {
     "name": "stdout",
     "output_type": "stream",
     "text": [
      "Enter the first number234\n",
      "Enter the second number234\n",
      "The sum is:  468\n"
     ]
    }
   ],
   "source": [
    "sum_with_input()"
   ]
  },
  {
   "cell_type": "code",
   "execution_count": 7,
   "id": "8b0d541d",
   "metadata": {},
   "outputs": [],
   "source": [
    "def inp():\n",
    "    num1 = int(input(\"Enter the first number\"))\n",
    "    num2 = int(input(\"Enter the second number\"))\n",
    "    \n",
    "    a = add(num1,num2)\n",
    "    \n",
    "    print(\"The sum is: \", a)"
   ]
  },
  {
   "cell_type": "code",
   "execution_count": 18,
   "id": "7ad6713c",
   "metadata": {},
   "outputs": [
    {
     "name": "stdout",
     "output_type": "stream",
     "text": [
      "Enter the first number13\n",
      "Enter the second number23\n",
      "The sum is:  36\n"
     ]
    }
   ],
   "source": [
    "inp()"
   ]
  },
  {
   "cell_type": "code",
   "execution_count": null,
   "id": "0de24ac3",
   "metadata": {},
   "outputs": [],
   "source": [
    "ch = '1'\n",
    "\n",
    "while ch == '1':\n",
    "    inp()\n",
    "    ch = input(\"do you want to continue\")"
   ]
  },
  {
   "cell_type": "code",
   "execution_count": null,
   "id": "a93d6373",
   "metadata": {},
   "outputs": [],
   "source": []
  }
 ],
 "metadata": {
  "kernelspec": {
   "display_name": "Python 3 (ipykernel)",
   "language": "python",
   "name": "python3"
  },
  "language_info": {
   "codemirror_mode": {
    "name": "ipython",
    "version": 3
   },
   "file_extension": ".py",
   "mimetype": "text/x-python",
   "name": "python",
   "nbconvert_exporter": "python",
   "pygments_lexer": "ipython3",
   "version": "3.9.13"
  }
 },
 "nbformat": 4,
 "nbformat_minor": 5
}
